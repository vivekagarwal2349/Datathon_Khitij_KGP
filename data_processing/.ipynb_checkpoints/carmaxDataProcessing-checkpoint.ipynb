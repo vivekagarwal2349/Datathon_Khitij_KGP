{
 "cells": [
  {
   "cell_type": "code",
   "execution_count": 21,
   "metadata": {},
   "outputs": [],
   "source": [
    "import pandas as pd\n",
    "import numpy as np\n",
    "import matplotlib.pyplot as plt\n",
    "import seaborn as sns\n",
    "import glob\n",
    "import urllib\n",
    "import cv2\n",
    "import re\n",
    "%matplotlib inline"
   ]
  },
  {
   "cell_type": "code",
   "execution_count": 48,
   "metadata": {},
   "outputs": [],
   "source": [
    "path = r'../data/carmax'\n",
    "all_files = glob.glob(path + \"/*.xlsx\")\n",
    "li = []\n",
    "for filename in all_files:\n",
    "    df = pd.read_excel(filename, index_col=None, header=0)\n",
    "    if 'coupe' in filename:\n",
    "        df['type'] = 'coupe'\n",
    "    elif 'crossover' in filename:\n",
    "        df['type'] = 'crossover'\n",
    "    elif 'sedan' in filename:\n",
    "        df['type'] = 'sedan'\n",
    "    elif 'suv' in filename:\n",
    "        df['type'] = 'suv'\n",
    "    elif 'truck' in filename:\n",
    "        df['type'] = 'truck'\n",
    "    li.append(df)\n",
    "\n",
    "df = pd.concat(li, axis=0, ignore_index=True)"
   ]
  },
  {
   "cell_type": "code",
   "execution_count": 49,
   "metadata": {},
   "outputs": [
    {
     "name": "stdout",
     "output_type": "stream",
     "text": [
      "<class 'pandas.core.frame.DataFrame'>\n",
      "RangeIndex: 55525 entries, 0 to 55524\n",
      "Data columns (total 5 columns):\n",
      "model      55525 non-null object\n",
      "price      55525 non-null object\n",
      "mileage    55525 non-null object\n",
      "src        55525 non-null object\n",
      "type       55525 non-null object\n",
      "dtypes: object(5)\n",
      "memory usage: 2.1+ MB\n"
     ]
    }
   ],
   "source": [
    "df.info()"
   ]
  },
  {
   "cell_type": "code",
   "execution_count": 50,
   "metadata": {},
   "outputs": [
    {
     "data": {
      "text/html": [
       "<div>\n",
       "<style scoped>\n",
       "    .dataframe tbody tr th:only-of-type {\n",
       "        vertical-align: middle;\n",
       "    }\n",
       "\n",
       "    .dataframe tbody tr th {\n",
       "        vertical-align: top;\n",
       "    }\n",
       "\n",
       "    .dataframe thead th {\n",
       "        text-align: right;\n",
       "    }\n",
       "</style>\n",
       "<table border=\"1\" class=\"dataframe\">\n",
       "  <thead>\n",
       "    <tr style=\"text-align: right;\">\n",
       "      <th></th>\n",
       "      <th>model</th>\n",
       "      <th>price</th>\n",
       "      <th>mileage</th>\n",
       "      <th>src</th>\n",
       "      <th>type</th>\n",
       "    </tr>\n",
       "  </thead>\n",
       "  <tbody>\n",
       "    <tr>\n",
       "      <th>0</th>\n",
       "      <td>x</td>\n",
       "      <td>x</td>\n",
       "      <td>x</td>\n",
       "      <td>x</td>\n",
       "      <td>sedan</td>\n",
       "    </tr>\n",
       "    <tr>\n",
       "      <th>1</th>\n",
       "      <td>2016 Acura\\nILX</td>\n",
       "      <td>$19,998*</td>\n",
       "      <td>20K Miles</td>\n",
       "      <td>https://img2.carmax.com/img/vehicles/17325462/...</td>\n",
       "      <td>sedan</td>\n",
       "    </tr>\n",
       "    <tr>\n",
       "      <th>2</th>\n",
       "      <td>2015 Acura\\nTLX</td>\n",
       "      <td>$21,998*</td>\n",
       "      <td>20K Miles</td>\n",
       "      <td>https://img2.carmax.com/img/vehicles/17373223/...</td>\n",
       "      <td>sedan</td>\n",
       "    </tr>\n",
       "    <tr>\n",
       "      <th>3</th>\n",
       "      <td>2015 Acura\\nTLX</td>\n",
       "      <td>$19,998*</td>\n",
       "      <td>41K Miles</td>\n",
       "      <td>https://img2.carmax.com/img/vehicles/17221103/...</td>\n",
       "      <td>sedan</td>\n",
       "    </tr>\n",
       "    <tr>\n",
       "      <th>4</th>\n",
       "      <td>2016 Acura\\nILX</td>\n",
       "      <td>$17,998*</td>\n",
       "      <td>29K Miles</td>\n",
       "      <td>https://img2.carmax.com/img/vehicles/17320660/...</td>\n",
       "      <td>sedan</td>\n",
       "    </tr>\n",
       "  </tbody>\n",
       "</table>\n",
       "</div>"
      ],
      "text/plain": [
       "             model     price    mileage  \\\n",
       "0                x         x          x   \n",
       "1  2016 Acura\\nILX  $19,998*  20K Miles   \n",
       "2  2015 Acura\\nTLX  $21,998*  20K Miles   \n",
       "3  2015 Acura\\nTLX  $19,998*  41K Miles   \n",
       "4  2016 Acura\\nILX  $17,998*  29K Miles   \n",
       "\n",
       "                                                 src   type  \n",
       "0                                                  x  sedan  \n",
       "1  https://img2.carmax.com/img/vehicles/17325462/...  sedan  \n",
       "2  https://img2.carmax.com/img/vehicles/17373223/...  sedan  \n",
       "3  https://img2.carmax.com/img/vehicles/17221103/...  sedan  \n",
       "4  https://img2.carmax.com/img/vehicles/17320660/...  sedan  "
      ]
     },
     "execution_count": 50,
     "metadata": {},
     "output_type": "execute_result"
    }
   ],
   "source": [
    "df.head()"
   ]
  },
  {
   "cell_type": "code",
   "execution_count": 51,
   "metadata": {},
   "outputs": [],
   "source": [
    "df = df.drop(np.array(df[df.src == 'x'].index))\n",
    "df = df.drop_duplicates()"
   ]
  },
  {
   "cell_type": "code",
   "execution_count": 52,
   "metadata": {},
   "outputs": [
    {
     "name": "stdout",
     "output_type": "stream",
     "text": [
      "<class 'pandas.core.frame.DataFrame'>\n",
      "Int64Index: 50580 entries, 1 to 55524\n",
      "Data columns (total 5 columns):\n",
      "model      50580 non-null object\n",
      "price      50580 non-null object\n",
      "mileage    50580 non-null object\n",
      "src        50580 non-null object\n",
      "type       50580 non-null object\n",
      "dtypes: object(5)\n",
      "memory usage: 2.3+ MB\n"
     ]
    }
   ],
   "source": [
    "df.info()"
   ]
  },
  {
   "cell_type": "code",
   "execution_count": 53,
   "metadata": {},
   "outputs": [],
   "source": [
    "df[\"price\"] = df[\"price\"].apply(lambda x: int(re.sub(\"[^0-9]\", \"\", x)))"
   ]
  },
  {
   "cell_type": "code",
   "execution_count": 54,
   "metadata": {},
   "outputs": [],
   "source": [
    "def miles_to_int(x):\n",
    "    if x == 'x':\n",
    "        x = '0'\n",
    "    x = x.replace('K', '000')\n",
    "    return int(re.sub(\"[^0-9]\", \"\", x))"
   ]
  },
  {
   "cell_type": "code",
   "execution_count": 55,
   "metadata": {},
   "outputs": [],
   "source": [
    "df[\"mileage\"] = df[\"mileage\"].apply(lambda x: miles_to_int(x))"
   ]
  },
  {
   "cell_type": "code",
   "execution_count": 56,
   "metadata": {},
   "outputs": [],
   "source": [
    "df[\"year\"] = df[\"model\"].apply(lambda x: int(x.split()[0]))"
   ]
  },
  {
   "cell_type": "code",
   "execution_count": 59,
   "metadata": {},
   "outputs": [],
   "source": [
    "def get_make(x):\n",
    "    make_model = x.split('\\n')\n",
    "    make = make_model[0].split(' ', 1)[1]\n",
    "    return make\n",
    "\n",
    "def get_trim(x):\n",
    "    make_model = x.split('\\n')\n",
    "    return make_model[1]"
   ]
  },
  {
   "cell_type": "code",
   "execution_count": 61,
   "metadata": {},
   "outputs": [],
   "source": [
    "df[\"make\"] = df[\"model\"].apply(lambda x: get_make(x))"
   ]
  },
  {
   "cell_type": "code",
   "execution_count": 62,
   "metadata": {},
   "outputs": [],
   "source": [
    "df[\"trim\"] = df[\"model\"].apply(lambda x: get_trim(x))"
   ]
  },
  {
   "cell_type": "code",
   "execution_count": 94,
   "metadata": {},
   "outputs": [],
   "source": [
    "df = df.reset_index().drop('index', axis=1)"
   ]
  },
  {
   "cell_type": "code",
   "execution_count": 99,
   "metadata": {
    "scrolled": true
   },
   "outputs": [
    {
     "data": {
      "text/html": [
       "<div>\n",
       "<style scoped>\n",
       "    .dataframe tbody tr th:only-of-type {\n",
       "        vertical-align: middle;\n",
       "    }\n",
       "\n",
       "    .dataframe tbody tr th {\n",
       "        vertical-align: top;\n",
       "    }\n",
       "\n",
       "    .dataframe thead th {\n",
       "        text-align: right;\n",
       "    }\n",
       "</style>\n",
       "<table border=\"1\" class=\"dataframe\">\n",
       "  <thead>\n",
       "    <tr style=\"text-align: right;\">\n",
       "      <th></th>\n",
       "      <th>model</th>\n",
       "      <th>price</th>\n",
       "      <th>mileage</th>\n",
       "      <th>src</th>\n",
       "      <th>type</th>\n",
       "      <th>year</th>\n",
       "      <th>make</th>\n",
       "      <th>trim</th>\n",
       "    </tr>\n",
       "  </thead>\n",
       "  <tbody>\n",
       "    <tr>\n",
       "      <th>0</th>\n",
       "      <td>2016 Acura\\nILX</td>\n",
       "      <td>19998</td>\n",
       "      <td>20000</td>\n",
       "      <td>https://img2.carmax.com/img/vehicles/17325462/...</td>\n",
       "      <td>sedan</td>\n",
       "      <td>2016</td>\n",
       "      <td>Acura</td>\n",
       "      <td>ILX</td>\n",
       "    </tr>\n",
       "    <tr>\n",
       "      <th>1</th>\n",
       "      <td>2015 Acura\\nTLX</td>\n",
       "      <td>21998</td>\n",
       "      <td>20000</td>\n",
       "      <td>https://img2.carmax.com/img/vehicles/17373223/...</td>\n",
       "      <td>sedan</td>\n",
       "      <td>2015</td>\n",
       "      <td>Acura</td>\n",
       "      <td>TLX</td>\n",
       "    </tr>\n",
       "    <tr>\n",
       "      <th>2</th>\n",
       "      <td>2015 Acura\\nTLX</td>\n",
       "      <td>19998</td>\n",
       "      <td>41000</td>\n",
       "      <td>https://img2.carmax.com/img/vehicles/17221103/...</td>\n",
       "      <td>sedan</td>\n",
       "      <td>2015</td>\n",
       "      <td>Acura</td>\n",
       "      <td>TLX</td>\n",
       "    </tr>\n",
       "    <tr>\n",
       "      <th>3</th>\n",
       "      <td>2016 Acura\\nILX</td>\n",
       "      <td>17998</td>\n",
       "      <td>29000</td>\n",
       "      <td>https://img2.carmax.com/img/vehicles/17320660/...</td>\n",
       "      <td>sedan</td>\n",
       "      <td>2016</td>\n",
       "      <td>Acura</td>\n",
       "      <td>ILX</td>\n",
       "    </tr>\n",
       "    <tr>\n",
       "      <th>4</th>\n",
       "      <td>2016 Acura\\nTLX</td>\n",
       "      <td>20998</td>\n",
       "      <td>44000</td>\n",
       "      <td>https://img2.carmax.com/img/vehicles/15666950/...</td>\n",
       "      <td>sedan</td>\n",
       "      <td>2016</td>\n",
       "      <td>Acura</td>\n",
       "      <td>TLX</td>\n",
       "    </tr>\n",
       "  </tbody>\n",
       "</table>\n",
       "</div>"
      ],
      "text/plain": [
       "             model  price  mileage  \\\n",
       "0  2016 Acura\\nILX  19998    20000   \n",
       "1  2015 Acura\\nTLX  21998    20000   \n",
       "2  2015 Acura\\nTLX  19998    41000   \n",
       "3  2016 Acura\\nILX  17998    29000   \n",
       "4  2016 Acura\\nTLX  20998    44000   \n",
       "\n",
       "                                                 src   type  year   make trim  \n",
       "0  https://img2.carmax.com/img/vehicles/17325462/...  sedan  2016  Acura  ILX  \n",
       "1  https://img2.carmax.com/img/vehicles/17373223/...  sedan  2015  Acura  TLX  \n",
       "2  https://img2.carmax.com/img/vehicles/17221103/...  sedan  2015  Acura  TLX  \n",
       "3  https://img2.carmax.com/img/vehicles/17320660/...  sedan  2016  Acura  ILX  \n",
       "4  https://img2.carmax.com/img/vehicles/15666950/...  sedan  2016  Acura  TLX  "
      ]
     },
     "execution_count": 99,
     "metadata": {},
     "output_type": "execute_result"
    }
   ],
   "source": [
    "df.head()"
   ]
  },
  {
   "cell_type": "code",
   "execution_count": 113,
   "metadata": {},
   "outputs": [
    {
     "data": {
      "text/plain": [
       "'https://img2.carmax.com/img/vehicles/17376968/1/750.jpg'"
      ]
     },
     "execution_count": 113,
     "metadata": {},
     "output_type": "execute_result"
    }
   ],
   "source": [
    "df.iloc[641]['src']"
   ]
  },
  {
   "cell_type": "code",
   "execution_count": 117,
   "metadata": {},
   "outputs": [],
   "source": [
    "from urllib.error import HTTPError, URLError\n",
    "import socket"
   ]
  },
  {
   "cell_type": "code",
   "execution_count": 118,
   "metadata": {},
   "outputs": [],
   "source": [
    "urls = df.iloc[:]['src']"
   ]
  },
  {
   "cell_type": "code",
   "execution_count": 120,
   "metadata": {},
   "outputs": [
    {
     "name": "stdout",
     "output_type": "stream",
     "text": [
      "Error occurred at 887\n",
      "Error occurred at 1107\n",
      "Error occurred at 1275\n",
      "Error occurred at 1448\n",
      "Error occurred at 2500\n",
      "Error occurred at 2703\n",
      "Error occurred at 4236\n",
      "Error occurred at 4316\n",
      "Error occurred at 4658\n",
      "Error occurred at 5129\n",
      "Error occurred at 6768\n",
      "Error occurred at 6790\n",
      "Error occurred at 8233\n",
      "Error occurred at 8435\n",
      "Error occurred at 9573\n",
      "Error occurred at 10205\n",
      "Error occurred at 10322\n",
      "Error occurred at 10689\n",
      "Error occurred at 11088\n",
      "Error occurred at 11289\n",
      "Error occurred at 12917\n",
      "Error occurred at 13203\n",
      "Error occurred at 13557\n",
      "Error occurred at 14433\n",
      "Error occurred at 14616\n",
      "Error occurred at 15371\n",
      "Error occurred at 19398\n",
      "Error occurred at 20183\n",
      "Error occurred at 20315\n",
      "Error occurred at 20575\n",
      "Error occurred at 21269\n",
      "Error occurred at 22417\n",
      "Error occurred at 22804\n",
      "Error occurred at 24075\n",
      "Error occurred at 24271\n",
      "Error occurred at 24529\n",
      "Error occurred at 24751\n",
      "Error occurred at 25056\n",
      "Error occurred at 25762\n",
      "Error occurred at 25957\n",
      "Error occurred at 27594\n",
      "Error occurred at 28011\n",
      "Error occurred at 28059\n",
      "Error occurred at 28182\n",
      "Error occurred at 28393\n",
      "Error occurred at 29888\n",
      "Error occurred at 30308\n",
      "Error occurred at 30635\n",
      "Error occurred at 31113\n",
      "Error occurred at 31478\n",
      "Error occurred at 31719\n",
      "Error occurred at 32737\n",
      "Error occurred at 33715\n",
      "Error occurred at 33783\n",
      "Error occurred at 34301\n",
      "Error occurred at 34574\n",
      "Error occurred at 34721\n",
      "Error occurred at 35688\n",
      "Error occurred at 36924\n",
      "Error occurred at 37060\n",
      "Error occurred at 37242\n",
      "Error occurred at 38120\n",
      "Error occurred at 38298\n",
      "Error occurred at 39408\n",
      "Error occurred at 39830\n",
      "Error occurred at 40405\n",
      "Error occurred at 40574\n",
      "Error occurred at 41489\n",
      "Error occurred at 41567\n",
      "Error occurred at 41605\n",
      "Error occurred at 42169\n",
      "Error occurred at 42830\n",
      "Error occurred at 43019\n",
      "Error occurred at 43717\n",
      "Error occurred at 44132\n",
      "Error occurred at 44186\n",
      "Error occurred at 44540\n",
      "Error occurred at 46246\n",
      "Error occurred at 47337\n",
      "Error occurred at 47695\n",
      "Error occurred at 48156\n",
      "Error occurred at 48252\n",
      "Error occurred at 48955\n",
      "Error occurred at 48963\n",
      "Error occurred at 49123\n",
      "Error occurred at 49200\n",
      "Error occurred at 49349\n"
     ]
    }
   ],
   "source": [
    "start_i = 0\n",
    "for i in range(len(urls)):\n",
    "    cont = False\n",
    "    count = 0\n",
    "    while (not cont) and count < 10:\n",
    "        try:\n",
    "            urllib.request.urlretrieve(urls[start_i + i], \"../images/carmax/\" + str(start_i + i) + \".jpg\")\n",
    "            cont = True\n",
    "        except (HTTPError, URLError) as error:\n",
    "            print(\"Error occurred at \" + str(i))\n",
    "            count += 1"
   ]
  },
  {
   "cell_type": "code",
   "execution_count": 149,
   "metadata": {},
   "outputs": [],
   "source": [
    "def is_original(image):\n",
    "    a = cv2.imread('../images/carmax/894.jpg')\n",
    "    b = cv2.imread(image)\n",
    "    try:\n",
    "        difference = cv2.subtract(a, b)    \n",
    "        result = not np.any(difference)\n",
    "        if result is True:\n",
    "            return 'sample'\n",
    "        else:\n",
    "            return 'original'\n",
    "    except:\n",
    "        try:\n",
    "            c = cv2.imread('../images/carmax/7751.jpg')\n",
    "            difference = cv2.subtract(c, b)    \n",
    "            result = not np.any(difference)\n",
    "            if result is True:\n",
    "                return 'sample'\n",
    "            else:\n",
    "                return 'original'\n",
    "        except:    \n",
    "            return 'original'"
   ]
  },
  {
   "cell_type": "code",
   "execution_count": 153,
   "metadata": {},
   "outputs": [],
   "source": [
    "path = r'../images/carmax'\n",
    "all_files = glob.glob(path + \"/*.jpg\")\n",
    "originals = []\n",
    "for i in range(len(all_files)):\n",
    "    originals.append(is_original('../images/carmax/' + str(i) + '.jpg'))"
   ]
  },
  {
   "cell_type": "code",
   "execution_count": 157,
   "metadata": {},
   "outputs": [],
   "source": [
    "df['image-type'] = originals"
   ]
  },
  {
   "cell_type": "code",
   "execution_count": 160,
   "metadata": {},
   "outputs": [
    {
     "name": "stdout",
     "output_type": "stream",
     "text": [
      "<class 'pandas.core.frame.DataFrame'>\n",
      "Int64Index: 2601 entries, 7 to 46184\n",
      "Data columns (total 9 columns):\n",
      "model         2601 non-null object\n",
      "price         2601 non-null int64\n",
      "mileage       2601 non-null int64\n",
      "src           2601 non-null object\n",
      "type          2601 non-null object\n",
      "year          2601 non-null int64\n",
      "make          2601 non-null object\n",
      "trim          2601 non-null object\n",
      "image-type    2601 non-null object\n",
      "dtypes: int64(3), object(6)\n",
      "memory usage: 203.2+ KB\n"
     ]
    }
   ],
   "source": [
    "df[df['image-type'] == 'sample'].info()"
   ]
  },
  {
   "cell_type": "code",
   "execution_count": 161,
   "metadata": {},
   "outputs": [],
   "source": [
    "from PIL import Image, ImageOps"
   ]
  },
  {
   "cell_type": "code",
   "execution_count": 171,
   "metadata": {},
   "outputs": [],
   "source": [
    "desired_size = 128\n",
    "im_pth = \"../images/carmax/0.jpg\"\n",
    "im = Image.open(im_pth)\n",
    "old_size = im.size\n",
    "ratio = float(desired_size)/max(old_size)\n",
    "new_size = tuple([int(x*ratio) for x in old_size])\n",
    "im = im.resize(new_size, Image.ANTIALIAS)\n",
    "new_im = Image.new(\"RGB\", (desired_size, desired_size))\n",
    "new_im.paste(im, ((desired_size-new_size[0])//2,\n",
    "                    (desired_size-new_size[1])//2))\n",
    "new_im.save()"
   ]
  },
  {
   "cell_type": "markdown",
   "metadata": {},
   "source": [
    "The following is to extract objects from the image. Because this will take too long to do for 50000 images, we will skip this step"
   ]
  },
  {
   "cell_type": "code",
   "execution_count": 168,
   "metadata": {},
   "outputs": [
    {
     "name": "stderr",
     "output_type": "stream",
     "text": [
      "Using TensorFlow backend.\n"
     ]
    }
   ],
   "source": [
    "# from imageai.Detection import ObjectDetection\n",
    "# import os"
   ]
  },
  {
   "cell_type": "code",
   "execution_count": 172,
   "metadata": {},
   "outputs": [],
   "source": [
    "# execution_path = os.getcwd()\n",
    "\n",
    "# detector = ObjectDetection()\n",
    "# detector.setModelTypeAsRetinaNet()\n",
    "# detector.setModelPath( os.path.join(execution_path , \"resnet50_coco_best_v2.0.1.h5\"))\n",
    "# detector.loadModel()\n",
    "# detections = detector.detectObjectsFromImage(input_image=os.path.join(execution_path , \"../images/carmax/4.jpg\"), output_image_path=os.path.join(execution_path , \"imagenew.jpg\"))\n",
    "\n",
    "# for eachObject in detections:\n",
    "#     print(eachObject[\"name\"] , \" : \" , eachObject[\"percentage_probability\"] )"
   ]
  },
  {
   "cell_type": "code",
   "execution_count": 176,
   "metadata": {},
   "outputs": [],
   "source": [
    "df['model'] = 'undefined'"
   ]
  },
  {
   "cell_type": "code",
   "execution_count": 178,
   "metadata": {},
   "outputs": [
    {
     "data": {
      "text/html": [
       "<div>\n",
       "<style scoped>\n",
       "    .dataframe tbody tr th:only-of-type {\n",
       "        vertical-align: middle;\n",
       "    }\n",
       "\n",
       "    .dataframe tbody tr th {\n",
       "        vertical-align: top;\n",
       "    }\n",
       "\n",
       "    .dataframe thead th {\n",
       "        text-align: right;\n",
       "    }\n",
       "</style>\n",
       "<table border=\"1\" class=\"dataframe\">\n",
       "  <thead>\n",
       "    <tr style=\"text-align: right;\">\n",
       "      <th></th>\n",
       "      <th>model</th>\n",
       "      <th>price</th>\n",
       "      <th>mileage</th>\n",
       "      <th>src</th>\n",
       "      <th>type</th>\n",
       "      <th>year</th>\n",
       "      <th>make</th>\n",
       "      <th>trim</th>\n",
       "      <th>image-type</th>\n",
       "    </tr>\n",
       "  </thead>\n",
       "  <tbody>\n",
       "    <tr>\n",
       "      <th>0</th>\n",
       "      <td>undefined</td>\n",
       "      <td>19998</td>\n",
       "      <td>20000</td>\n",
       "      <td>https://img2.carmax.com/img/vehicles/17325462/...</td>\n",
       "      <td>sedan</td>\n",
       "      <td>2016</td>\n",
       "      <td>Acura</td>\n",
       "      <td>ILX</td>\n",
       "      <td>original</td>\n",
       "    </tr>\n",
       "    <tr>\n",
       "      <th>1</th>\n",
       "      <td>undefined</td>\n",
       "      <td>21998</td>\n",
       "      <td>20000</td>\n",
       "      <td>https://img2.carmax.com/img/vehicles/17373223/...</td>\n",
       "      <td>sedan</td>\n",
       "      <td>2015</td>\n",
       "      <td>Acura</td>\n",
       "      <td>TLX</td>\n",
       "      <td>original</td>\n",
       "    </tr>\n",
       "    <tr>\n",
       "      <th>2</th>\n",
       "      <td>undefined</td>\n",
       "      <td>19998</td>\n",
       "      <td>41000</td>\n",
       "      <td>https://img2.carmax.com/img/vehicles/17221103/...</td>\n",
       "      <td>sedan</td>\n",
       "      <td>2015</td>\n",
       "      <td>Acura</td>\n",
       "      <td>TLX</td>\n",
       "      <td>original</td>\n",
       "    </tr>\n",
       "    <tr>\n",
       "      <th>3</th>\n",
       "      <td>undefined</td>\n",
       "      <td>17998</td>\n",
       "      <td>29000</td>\n",
       "      <td>https://img2.carmax.com/img/vehicles/17320660/...</td>\n",
       "      <td>sedan</td>\n",
       "      <td>2016</td>\n",
       "      <td>Acura</td>\n",
       "      <td>ILX</td>\n",
       "      <td>original</td>\n",
       "    </tr>\n",
       "    <tr>\n",
       "      <th>4</th>\n",
       "      <td>undefined</td>\n",
       "      <td>20998</td>\n",
       "      <td>44000</td>\n",
       "      <td>https://img2.carmax.com/img/vehicles/15666950/...</td>\n",
       "      <td>sedan</td>\n",
       "      <td>2016</td>\n",
       "      <td>Acura</td>\n",
       "      <td>TLX</td>\n",
       "      <td>original</td>\n",
       "    </tr>\n",
       "  </tbody>\n",
       "</table>\n",
       "</div>"
      ],
      "text/plain": [
       "       model  price  mileage  \\\n",
       "0  undefined  19998    20000   \n",
       "1  undefined  21998    20000   \n",
       "2  undefined  19998    41000   \n",
       "3  undefined  17998    29000   \n",
       "4  undefined  20998    44000   \n",
       "\n",
       "                                                 src   type  year   make trim  \\\n",
       "0  https://img2.carmax.com/img/vehicles/17325462/...  sedan  2016  Acura  ILX   \n",
       "1  https://img2.carmax.com/img/vehicles/17373223/...  sedan  2015  Acura  TLX   \n",
       "2  https://img2.carmax.com/img/vehicles/17221103/...  sedan  2015  Acura  TLX   \n",
       "3  https://img2.carmax.com/img/vehicles/17320660/...  sedan  2016  Acura  ILX   \n",
       "4  https://img2.carmax.com/img/vehicles/15666950/...  sedan  2016  Acura  TLX   \n",
       "\n",
       "  image-type  \n",
       "0   original  \n",
       "1   original  \n",
       "2   original  \n",
       "3   original  \n",
       "4   original  "
      ]
     },
     "execution_count": 178,
     "metadata": {},
     "output_type": "execute_result"
    }
   ],
   "source": [
    "df.head()"
   ]
  },
  {
   "cell_type": "code",
   "execution_count": 179,
   "metadata": {},
   "outputs": [
    {
     "name": "stdout",
     "output_type": "stream",
     "text": [
      "<class 'pandas.core.frame.DataFrame'>\n",
      "RangeIndex: 50580 entries, 0 to 50579\n",
      "Data columns (total 9 columns):\n",
      "model         50580 non-null object\n",
      "price         50580 non-null int64\n",
      "mileage       50580 non-null int64\n",
      "src           50580 non-null object\n",
      "type          50580 non-null object\n",
      "year          50580 non-null int64\n",
      "make          50580 non-null object\n",
      "trim          50580 non-null object\n",
      "image-type    50580 non-null object\n",
      "dtypes: int64(3), object(6)\n",
      "memory usage: 3.5+ MB\n"
     ]
    }
   ],
   "source": [
    "df.info()"
   ]
  },
  {
   "cell_type": "code",
   "execution_count": 181,
   "metadata": {},
   "outputs": [],
   "source": [
    "df.to_csv('carmax_final_data.csv')"
   ]
  },
  {
   "cell_type": "code",
   "execution_count": null,
   "metadata": {},
   "outputs": [],
   "source": []
  }
 ],
 "metadata": {
  "kernelspec": {
   "display_name": "Python 3",
   "language": "python",
   "name": "python3"
  },
  "language_info": {
   "codemirror_mode": {
    "name": "ipython",
    "version": 3
   },
   "file_extension": ".py",
   "mimetype": "text/x-python",
   "name": "python",
   "nbconvert_exporter": "python",
   "pygments_lexer": "ipython3",
   "version": "3.7.1"
  }
 },
 "nbformat": 4,
 "nbformat_minor": 2
}
