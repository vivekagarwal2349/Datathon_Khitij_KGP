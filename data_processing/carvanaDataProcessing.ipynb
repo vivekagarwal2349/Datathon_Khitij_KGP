{
 "cells": [
  {
   "cell_type": "code",
   "execution_count": 130,
   "metadata": {},
   "outputs": [],
   "source": [
    "import pandas as pd\n",
    "import numpy as np\n",
    "import matplotlib.pyplot as plt\n",
    "import seaborn as sns\n",
    "import glob\n",
    "import urllib\n",
    "%matplotlib inline"
   ]
  },
  {
   "cell_type": "code",
   "execution_count": 21,
   "metadata": {},
   "outputs": [],
   "source": [
    "path = r'../data'\n",
    "all_files = glob.glob(path + \"/*.xlsx\")\n",
    "\n",
    "li = []\n",
    "for filename in all_files:\n",
    "    df = pd.read_excel(filename, index_col=None, header=0)\n",
    "    li.append(df)\n",
    "\n",
    "df = pd.concat(li, axis=0, ignore_index=True)"
   ]
  },
  {
   "cell_type": "code",
   "execution_count": 22,
   "metadata": {},
   "outputs": [
    {
     "name": "stdout",
     "output_type": "stream",
     "text": [
      "<class 'pandas.core.frame.DataFrame'>\n",
      "RangeIndex: 33328 entries, 0 to 33327\n",
      "Data columns (total 7 columns):\n",
      "make       33328 non-null object\n",
      "model      33328 non-null object\n",
      "trim       33328 non-null object\n",
      "type       33328 non-null object\n",
      "price      33328 non-null object\n",
      "mileage    33328 non-null object\n",
      "src        33328 non-null object\n",
      "dtypes: object(7)\n",
      "memory usage: 1.8+ MB\n"
     ]
    }
   ],
   "source": [
    "df.info()"
   ]
  },
  {
   "cell_type": "code",
   "execution_count": 23,
   "metadata": {},
   "outputs": [
    {
     "data": {
      "text/html": [
       "<div>\n",
       "<style scoped>\n",
       "    .dataframe tbody tr th:only-of-type {\n",
       "        vertical-align: middle;\n",
       "    }\n",
       "\n",
       "    .dataframe tbody tr th {\n",
       "        vertical-align: top;\n",
       "    }\n",
       "\n",
       "    .dataframe thead th {\n",
       "        text-align: right;\n",
       "    }\n",
       "</style>\n",
       "<table border=\"1\" class=\"dataframe\">\n",
       "  <thead>\n",
       "    <tr style=\"text-align: right;\">\n",
       "      <th></th>\n",
       "      <th>make</th>\n",
       "      <th>model</th>\n",
       "      <th>trim</th>\n",
       "      <th>type</th>\n",
       "      <th>price</th>\n",
       "      <th>mileage</th>\n",
       "      <th>src</th>\n",
       "    </tr>\n",
       "  </thead>\n",
       "  <tbody>\n",
       "    <tr>\n",
       "      <th>0</th>\n",
       "      <td>x</td>\n",
       "      <td>x</td>\n",
       "      <td>x</td>\n",
       "      <td>x</td>\n",
       "      <td>x</td>\n",
       "      <td>x</td>\n",
       "      <td>x</td>\n",
       "    </tr>\n",
       "    <tr>\n",
       "      <th>1</th>\n",
       "      <td>2015 AUDI</td>\n",
       "      <td>A3</td>\n",
       "      <td>1.8T Premium Plus</td>\n",
       "      <td>convertible</td>\n",
       "      <td>22,200</td>\n",
       "      <td>41,822 miles</td>\n",
       "      <td>//cdnblob.carvana.io/2000291164/post-large/nor...</td>\n",
       "    </tr>\n",
       "    <tr>\n",
       "      <th>2</th>\n",
       "      <td>2011 JAGUAR</td>\n",
       "      <td>XK</td>\n",
       "      <td>XKR</td>\n",
       "      <td>convertible</td>\n",
       "      <td>34,300</td>\n",
       "      <td>47,179 miles</td>\n",
       "      <td>//cdnblob.carvana.io/2000287619/post-large/nor...</td>\n",
       "    </tr>\n",
       "    <tr>\n",
       "      <th>3</th>\n",
       "      <td>2017 MAZDA</td>\n",
       "      <td>MX-5 MIATA RF</td>\n",
       "      <td>Club</td>\n",
       "      <td>convertible</td>\n",
       "      <td>25,700</td>\n",
       "      <td>6,445 miles</td>\n",
       "      <td>//cdnblob.carvana.io/2000282627/post-large/nor...</td>\n",
       "    </tr>\n",
       "    <tr>\n",
       "      <th>4</th>\n",
       "      <td>2016 BMW</td>\n",
       "      <td>4 SERIES</td>\n",
       "      <td>428i</td>\n",
       "      <td>convertible</td>\n",
       "      <td>32,800</td>\n",
       "      <td>17,869 miles</td>\n",
       "      <td>//cdnblob.carvana.io/2000283685/post-large/nor...</td>\n",
       "    </tr>\n",
       "  </tbody>\n",
       "</table>\n",
       "</div>"
      ],
      "text/plain": [
       "          make          model               trim         type   price  \\\n",
       "0            x              x                  x            x       x   \n",
       "1    2015 AUDI             A3  1.8T Premium Plus  convertible  22,200   \n",
       "2  2011 JAGUAR             XK                XKR  convertible  34,300   \n",
       "3   2017 MAZDA  MX-5 MIATA RF               Club  convertible  25,700   \n",
       "4     2016 BMW       4 SERIES               428i  convertible  32,800   \n",
       "\n",
       "        mileage                                                src  \n",
       "0             x                                                  x  \n",
       "1  41,822 miles  //cdnblob.carvana.io/2000291164/post-large/nor...  \n",
       "2  47,179 miles  //cdnblob.carvana.io/2000287619/post-large/nor...  \n",
       "3   6,445 miles  //cdnblob.carvana.io/2000282627/post-large/nor...  \n",
       "4  17,869 miles  //cdnblob.carvana.io/2000283685/post-large/nor...  "
      ]
     },
     "execution_count": 23,
     "metadata": {},
     "output_type": "execute_result"
    }
   ],
   "source": [
    "df.head()"
   ]
  },
  {
   "cell_type": "code",
   "execution_count": 24,
   "metadata": {},
   "outputs": [],
   "source": [
    "df = df.drop(np.array(df[df.make == 'x'].index))"
   ]
  },
  {
   "cell_type": "code",
   "execution_count": 27,
   "metadata": {},
   "outputs": [
    {
     "name": "stdout",
     "output_type": "stream",
     "text": [
      "<class 'pandas.core.frame.DataFrame'>\n",
      "Int64Index: 33309 entries, 1 to 33327\n",
      "Data columns (total 7 columns):\n",
      "make       33309 non-null object\n",
      "model      33309 non-null object\n",
      "trim       33309 non-null object\n",
      "type       33309 non-null object\n",
      "price      33309 non-null object\n",
      "mileage    33309 non-null object\n",
      "src        33309 non-null object\n",
      "dtypes: object(7)\n",
      "memory usage: 2.0+ MB\n"
     ]
    }
   ],
   "source": [
    "df.info()"
   ]
  },
  {
   "cell_type": "code",
   "execution_count": 31,
   "metadata": {},
   "outputs": [],
   "source": [
    "df['price'] = df['price'].apply(lambda x: int(x.replace(',','')))\n",
    "df['mileage'] = df['mileage'].apply(lambda x: int(x.replace(',','').replace(' miles','')))\n",
    "df['src'] = df['src'].apply(lambda x: x.lstrip('/'))"
   ]
  },
  {
   "cell_type": "code",
   "execution_count": 32,
   "metadata": {},
   "outputs": [
    {
     "data": {
      "text/html": [
       "<div>\n",
       "<style scoped>\n",
       "    .dataframe tbody tr th:only-of-type {\n",
       "        vertical-align: middle;\n",
       "    }\n",
       "\n",
       "    .dataframe tbody tr th {\n",
       "        vertical-align: top;\n",
       "    }\n",
       "\n",
       "    .dataframe thead th {\n",
       "        text-align: right;\n",
       "    }\n",
       "</style>\n",
       "<table border=\"1\" class=\"dataframe\">\n",
       "  <thead>\n",
       "    <tr style=\"text-align: right;\">\n",
       "      <th></th>\n",
       "      <th>make</th>\n",
       "      <th>model</th>\n",
       "      <th>trim</th>\n",
       "      <th>type</th>\n",
       "      <th>price</th>\n",
       "      <th>mileage</th>\n",
       "      <th>src</th>\n",
       "    </tr>\n",
       "  </thead>\n",
       "  <tbody>\n",
       "    <tr>\n",
       "      <th>1</th>\n",
       "      <td>2015 AUDI</td>\n",
       "      <td>A3</td>\n",
       "      <td>1.8T Premium Plus</td>\n",
       "      <td>convertible</td>\n",
       "      <td>22200</td>\n",
       "      <td>41822</td>\n",
       "      <td>cdnblob.carvana.io/2000291164/post-large/norma...</td>\n",
       "    </tr>\n",
       "    <tr>\n",
       "      <th>2</th>\n",
       "      <td>2011 JAGUAR</td>\n",
       "      <td>XK</td>\n",
       "      <td>XKR</td>\n",
       "      <td>convertible</td>\n",
       "      <td>34300</td>\n",
       "      <td>47179</td>\n",
       "      <td>cdnblob.carvana.io/2000287619/post-large/norma...</td>\n",
       "    </tr>\n",
       "    <tr>\n",
       "      <th>3</th>\n",
       "      <td>2017 MAZDA</td>\n",
       "      <td>MX-5 MIATA RF</td>\n",
       "      <td>Club</td>\n",
       "      <td>convertible</td>\n",
       "      <td>25700</td>\n",
       "      <td>6445</td>\n",
       "      <td>cdnblob.carvana.io/2000282627/post-large/norma...</td>\n",
       "    </tr>\n",
       "    <tr>\n",
       "      <th>4</th>\n",
       "      <td>2016 BMW</td>\n",
       "      <td>4 SERIES</td>\n",
       "      <td>428i</td>\n",
       "      <td>convertible</td>\n",
       "      <td>32800</td>\n",
       "      <td>17869</td>\n",
       "      <td>cdnblob.carvana.io/2000283685/post-large/norma...</td>\n",
       "    </tr>\n",
       "    <tr>\n",
       "      <th>5</th>\n",
       "      <td>2015 BMW</td>\n",
       "      <td>Z4</td>\n",
       "      <td>SDrive35i</td>\n",
       "      <td>convertible</td>\n",
       "      <td>32700</td>\n",
       "      <td>29380</td>\n",
       "      <td>cdnblob.carvana.io/2000277443/post-large/norma...</td>\n",
       "    </tr>\n",
       "  </tbody>\n",
       "</table>\n",
       "</div>"
      ],
      "text/plain": [
       "          make          model               trim         type  price  mileage  \\\n",
       "1    2015 AUDI             A3  1.8T Premium Plus  convertible  22200    41822   \n",
       "2  2011 JAGUAR             XK                XKR  convertible  34300    47179   \n",
       "3   2017 MAZDA  MX-5 MIATA RF               Club  convertible  25700     6445   \n",
       "4     2016 BMW       4 SERIES               428i  convertible  32800    17869   \n",
       "5     2015 BMW             Z4          SDrive35i  convertible  32700    29380   \n",
       "\n",
       "                                                 src  \n",
       "1  cdnblob.carvana.io/2000291164/post-large/norma...  \n",
       "2  cdnblob.carvana.io/2000287619/post-large/norma...  \n",
       "3  cdnblob.carvana.io/2000282627/post-large/norma...  \n",
       "4  cdnblob.carvana.io/2000283685/post-large/norma...  \n",
       "5  cdnblob.carvana.io/2000277443/post-large/norma...  "
      ]
     },
     "execution_count": 32,
     "metadata": {},
     "output_type": "execute_result"
    }
   ],
   "source": [
    "df.head()"
   ]
  },
  {
   "cell_type": "code",
   "execution_count": 33,
   "metadata": {},
   "outputs": [
    {
     "name": "stdout",
     "output_type": "stream",
     "text": [
      "<class 'pandas.core.frame.DataFrame'>\n",
      "Int64Index: 33309 entries, 1 to 33327\n",
      "Data columns (total 7 columns):\n",
      "make       33309 non-null object\n",
      "model      33309 non-null object\n",
      "trim       33309 non-null object\n",
      "type       33309 non-null object\n",
      "price      33309 non-null int64\n",
      "mileage    33309 non-null int64\n",
      "src        33309 non-null object\n",
      "dtypes: int64(2), object(5)\n",
      "memory usage: 2.0+ MB\n"
     ]
    }
   ],
   "source": [
    "df.info()"
   ]
  },
  {
   "cell_type": "code",
   "execution_count": 62,
   "metadata": {},
   "outputs": [],
   "source": [
    "all_cars = df.drop_duplicates()"
   ]
  },
  {
   "cell_type": "code",
   "execution_count": 63,
   "metadata": {},
   "outputs": [
    {
     "name": "stderr",
     "output_type": "stream",
     "text": [
      "/Users/alisoomar/anaconda3/lib/python3.7/site-packages/ipykernel_launcher.py:1: SettingWithCopyWarning: \n",
      "A value is trying to be set on a copy of a slice from a DataFrame.\n",
      "Try using .loc[row_indexer,col_indexer] = value instead\n",
      "\n",
      "See the caveats in the documentation: http://pandas.pydata.org/pandas-docs/stable/indexing.html#indexing-view-versus-copy\n",
      "  \"\"\"Entry point for launching an IPython kernel.\n"
     ]
    }
   ],
   "source": [
    "all_cars['year'] = all_cars['make'].apply(lambda x: int(x.split()[0]))"
   ]
  },
  {
   "cell_type": "code",
   "execution_count": 64,
   "metadata": {},
   "outputs": [
    {
     "name": "stderr",
     "output_type": "stream",
     "text": [
      "/Users/alisoomar/anaconda3/lib/python3.7/site-packages/ipykernel_launcher.py:1: SettingWithCopyWarning: \n",
      "A value is trying to be set on a copy of a slice from a DataFrame.\n",
      "Try using .loc[row_indexer,col_indexer] = value instead\n",
      "\n",
      "See the caveats in the documentation: http://pandas.pydata.org/pandas-docs/stable/indexing.html#indexing-view-versus-copy\n",
      "  \"\"\"Entry point for launching an IPython kernel.\n"
     ]
    }
   ],
   "source": [
    "all_cars['make'] = all_cars['make'].apply(lambda x: x.split(' ', 1)[1])"
   ]
  },
  {
   "cell_type": "code",
   "execution_count": 65,
   "metadata": {},
   "outputs": [],
   "source": [
    "all_cars = all_cars.reset_index()\n",
    "all_cars.drop(['index'],axis=1, inplace=True)"
   ]
  },
  {
   "cell_type": "code",
   "execution_count": 180,
   "metadata": {},
   "outputs": [],
   "source": [
    "def is_valid_url(url):\n",
    "    index = url.find('carvana')\n",
    "    return index >= 0"
   ]
  },
  {
   "cell_type": "code",
   "execution_count": 181,
   "metadata": {},
   "outputs": [],
   "source": [
    "invalid_urls = []\n",
    "for i in range(len(all_cars.iloc[:]['src'])):\n",
    "    if not is_valid_url(all_cars.iloc[i]['src']):\n",
    "        invalid_urls.append(i)"
   ]
  },
  {
   "cell_type": "code",
   "execution_count": 184,
   "metadata": {},
   "outputs": [],
   "source": [
    "all_cars.drop(invalid_urls, inplace=True)"
   ]
  },
  {
   "cell_type": "code",
   "execution_count": 189,
   "metadata": {},
   "outputs": [],
   "source": [
    "all_cars = all_cars.reset_index()\n",
    "all_cars.drop(['index'],axis=1, inplace=True)"
   ]
  },
  {
   "cell_type": "code",
   "execution_count": 84,
   "metadata": {},
   "outputs": [],
   "source": [
    "all_cars.replace({'make': 'MERCEDES-BEN...'}, 'MERCEDES-BENZ',inplace=True)"
   ]
  },
  {
   "cell_type": "code",
   "execution_count": 191,
   "metadata": {},
   "outputs": [
    {
     "data": {
      "image/png": "[encoded data removed]",
      "text/plain": [
       "<Figure size 1152x432 with 1 Axes>"
      ]
     },
     "metadata": {
      "needs_background": "light"
     },
     "output_type": "display_data"
    }
   ],
   "source": [
    "plt.figure(figsize=(16,6))\n",
    "ax = sns.countplot(x='make', data=all_cars)\n",
    "ax.set_xticklabels(ax.get_xticklabels(), rotation=90, ha=\"right\")\n",
    "plt.show()"
   ]
  },
  {
   "cell_type": "code",
   "execution_count": 192,
   "metadata": {},
   "outputs": [
    {
     "data": {
      "text/plain": [
       "<matplotlib.axes._subplots.AxesSubplot at 0x1a218cc1d0>"
      ]
     },
     "execution_count": 192,
     "metadata": {},
     "output_type": "execute_result"
    },
    {
     "data": {
      "image/png": "[encoded data removed]",
      "text/plain": [
       "<Figure size 720x432 with 1 Axes>"
      ]
     },
     "metadata": {
      "needs_background": "light"
     },
     "output_type": "display_data"
    }
   ],
   "source": [
    "plt.figure(figsize=(10,6))\n",
    "sns.countplot(x='type', data=all_cars)"
   ]
  },
  {
   "cell_type": "code",
   "execution_count": 193,
   "metadata": {},
   "outputs": [
    {
     "data": {
      "text/plain": [
       "<matplotlib.axes._subplots.AxesSubplot at 0x1a222bec18>"
      ]
     },
     "execution_count": 193,
     "metadata": {},
     "output_type": "execute_result"
    },
    {
     "data": {
      "image/png": "[encoded data removed]",
      "text/plain": [
       "<Figure size 720x432 with 1 Axes>"
      ]
     },
     "metadata": {
      "needs_background": "light"
     },
     "output_type": "display_data"
    }
   ],
   "source": [
    "plt.figure(figsize=(10,6))\n",
    "sns.countplot(x='year', data=all_cars)"
   ]
  },
  {
   "cell_type": "code",
   "execution_count": 197,
   "metadata": {},
   "outputs": [
    {
     "data": {
      "text/plain": [
       "<matplotlib.axes._subplots.AxesSubplot at 0x1a234552b0>"
      ]
     },
     "execution_count": 197,
     "metadata": {},
     "output_type": "execute_result"
    },
    {
     "data": {
      "image/png": "[encoded data removed]",
      "text/plain": [
       "<Figure size 864x288 with 1 Axes>"
      ]
     },
     "metadata": {
      "needs_background": "light"
     },
     "output_type": "display_data"
    }
   ],
   "source": [
    "plt.figure(figsize=(12,4))\n",
    "sns.distplot((all_cars['price']), kde=False)"
   ]
  },
  {
   "cell_type": "code",
   "execution_count": 210,
   "metadata": {},
   "outputs": [],
   "source": [
    "def is_original(url):\n",
    "    if url.find('.png') >= 0:\n",
    "        return 'sample'\n",
    "    else:\n",
    "        return 'original'\n",
    "\n",
    "originals = []    \n",
    "for url in all_cars.iloc[:]['src']:\n",
    "    originals.append(is_original(url))"
   ]
  },
  {
   "cell_type": "code",
   "execution_count": 224,
   "metadata": {},
   "outputs": [],
   "source": [
    "all_cars['image-type'] = originals"
   ]
  },
  {
   "cell_type": "code",
   "execution_count": 229,
   "metadata": {},
   "outputs": [
    {
     "data": {
      "text/html": [
       "<div>\n",
       "<style scoped>\n",
       "    .dataframe tbody tr th:only-of-type {\n",
       "        vertical-align: middle;\n",
       "    }\n",
       "\n",
       "    .dataframe tbody tr th {\n",
       "        vertical-align: top;\n",
       "    }\n",
       "\n",
       "    .dataframe thead th {\n",
       "        text-align: right;\n",
       "    }\n",
       "</style>\n",
       "<table border=\"1\" class=\"dataframe\">\n",
       "  <thead>\n",
       "    <tr style=\"text-align: right;\">\n",
       "      <th></th>\n",
       "      <th>make</th>\n",
       "      <th>model</th>\n",
       "      <th>trim</th>\n",
       "      <th>type</th>\n",
       "      <th>price</th>\n",
       "      <th>mileage</th>\n",
       "      <th>src</th>\n",
       "      <th>year</th>\n",
       "      <th>image-type</th>\n",
       "    </tr>\n",
       "  </thead>\n",
       "  <tbody>\n",
       "    <tr>\n",
       "      <th>0</th>\n",
       "      <td>AUDI</td>\n",
       "      <td>A3</td>\n",
       "      <td>1.8T Premium Plus</td>\n",
       "      <td>convertible</td>\n",
       "      <td>22200</td>\n",
       "      <td>41822</td>\n",
       "      <td>cdnblob.carvana.io/2000291164/post-large/norma...</td>\n",
       "      <td>2015</td>\n",
       "      <td>original</td>\n",
       "    </tr>\n",
       "    <tr>\n",
       "      <th>1</th>\n",
       "      <td>JAGUAR</td>\n",
       "      <td>XK</td>\n",
       "      <td>XKR</td>\n",
       "      <td>convertible</td>\n",
       "      <td>34300</td>\n",
       "      <td>47179</td>\n",
       "      <td>cdnblob.carvana.io/2000287619/post-large/norma...</td>\n",
       "      <td>2011</td>\n",
       "      <td>original</td>\n",
       "    </tr>\n",
       "    <tr>\n",
       "      <th>2</th>\n",
       "      <td>MAZDA</td>\n",
       "      <td>MX-5 MIATA RF</td>\n",
       "      <td>Club</td>\n",
       "      <td>convertible</td>\n",
       "      <td>25700</td>\n",
       "      <td>6445</td>\n",
       "      <td>cdnblob.carvana.io/2000282627/post-large/norma...</td>\n",
       "      <td>2017</td>\n",
       "      <td>original</td>\n",
       "    </tr>\n",
       "    <tr>\n",
       "      <th>3</th>\n",
       "      <td>BMW</td>\n",
       "      <td>4 SERIES</td>\n",
       "      <td>428i</td>\n",
       "      <td>convertible</td>\n",
       "      <td>32800</td>\n",
       "      <td>17869</td>\n",
       "      <td>cdnblob.carvana.io/2000283685/post-large/norma...</td>\n",
       "      <td>2016</td>\n",
       "      <td>original</td>\n",
       "    </tr>\n",
       "    <tr>\n",
       "      <th>4</th>\n",
       "      <td>BMW</td>\n",
       "      <td>Z4</td>\n",
       "      <td>SDrive35i</td>\n",
       "      <td>convertible</td>\n",
       "      <td>32700</td>\n",
       "      <td>29380</td>\n",
       "      <td>cdnblob.carvana.io/2000277443/post-large/norma...</td>\n",
       "      <td>2015</td>\n",
       "      <td>original</td>\n",
       "    </tr>\n",
       "  </tbody>\n",
       "</table>\n",
       "</div>"
      ],
      "text/plain": [
       "     make          model               trim         type  price  mileage  \\\n",
       "0    AUDI             A3  1.8T Premium Plus  convertible  22200    41822   \n",
       "1  JAGUAR             XK                XKR  convertible  34300    47179   \n",
       "2   MAZDA  MX-5 MIATA RF               Club  convertible  25700     6445   \n",
       "3     BMW       4 SERIES               428i  convertible  32800    17869   \n",
       "4     BMW             Z4          SDrive35i  convertible  32700    29380   \n",
       "\n",
       "                                                 src  year image-type  \n",
       "0  cdnblob.carvana.io/2000291164/post-large/norma...  2015   original  \n",
       "1  cdnblob.carvana.io/2000287619/post-large/norma...  2011   original  \n",
       "2  cdnblob.carvana.io/2000282627/post-large/norma...  2017   original  \n",
       "3  cdnblob.carvana.io/2000283685/post-large/norma...  2016   original  \n",
       "4  cdnblob.carvana.io/2000277443/post-large/norma...  2015   original  "
      ]
     },
     "execution_count": 229,
     "metadata": {},
     "output_type": "execute_result"
    }
   ],
   "source": [
    "all_cars.head()"
   ]
  },
  {
   "cell_type": "code",
   "execution_count": 233,
   "metadata": {},
   "outputs": [
    {
     "data": {
      "text/plain": [
       "120"
      ]
     },
     "execution_count": 233,
     "metadata": {},
     "output_type": "execute_result"
    }
   ],
   "source": [
    "len(all_cars[all_cars['image-type'] == 'sample']) #There are 120 sample photos found in our data"
   ]
  },
  {
   "cell_type": "code",
   "execution_count": 234,
   "metadata": {},
   "outputs": [
    {
     "data": {
      "text/plain": [
       "<matplotlib.axes._subplots.AxesSubplot at 0x1a2394be48>"
      ]
     },
     "execution_count": 234,
     "metadata": {},
     "output_type": "execute_result"
    },
    {
     "data": {
      "image/png": "[encoded data removed]",
      "text/plain": [
       "<Figure size 432x432 with 1 Axes>"
      ]
     },
     "metadata": {
      "needs_background": "light"
     },
     "output_type": "display_data"
    }
   ],
   "source": [
    "plt.figure(figsize=(6,6))\n",
    "sns.countplot(x='image-type', data=all_cars)"
   ]
  },
  {
   "cell_type": "code",
   "execution_count": 235,
   "metadata": {},
   "outputs": [],
   "source": [
    "all_cars.to_csv('../final_data.csv')"
   ]
  },
  {
   "cell_type": "code",
   "execution_count": 146,
   "metadata": {},
   "outputs": [
    {
     "data": {
      "text/plain": [
       "('../images/0.jpg', <http.client.HTTPMessage at 0x1a222b50f0>)"
      ]
     },
     "execution_count": 146,
     "metadata": {},
     "output_type": "execute_result"
    }
   ],
   "source": [
    "urllib.request.urlretrieve('https://' + all_cars.iloc[0]['src'], \"../images/\" + str(0) + \".jpg\")"
   ]
  },
  {
   "cell_type": "code",
   "execution_count": 237,
   "metadata": {},
   "outputs": [],
   "source": [
    "urls = all_cars.iloc[:]['src']\n",
    "for i in range(len(urls)):\n",
    "    urllib.request.urlretrieve('https://' + urls[i], \"../images/\" + str(i) + \".jpg\")"
   ]
  },
  {
   "cell_type": "code",
   "execution_count": 240,
   "metadata": {},
   "outputs": [
    {
     "data": {
      "text/plain": [
       "799"
      ]
     },
     "execution_count": 240,
     "metadata": {},
     "output_type": "execute_result"
    }
   ],
   "source": [
    "all_cars.trim.nunique()"
   ]
  },
  {
   "cell_type": "code",
   "execution_count": null,
   "metadata": {},
   "outputs": [],
   "source": []
  }
 ],
 "metadata": {
  "kernelspec": {
   "display_name": "Python 3",
   "language": "python",
   "name": "python3"
  },
  "language_info": {
   "codemirror_mode": {
    "name": "ipython",
    "version": 3
   },
   "file_extension": ".py",
   "mimetype": "text/x-python",
   "name": "python",
   "nbconvert_exporter": "python",
   "pygments_lexer": "ipython3",
   "version": "3.7.1"
  }
 },
 "nbformat": 4,
 "nbformat_minor": 2
}
