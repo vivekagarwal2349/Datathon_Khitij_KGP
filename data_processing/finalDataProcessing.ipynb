{
 "cells": [
  {
   "cell_type": "code",
   "execution_count": 22,
   "metadata": {},
   "outputs": [],
   "source": [
    "import pandas as pd\n",
    "import numpy as np\n",
    "import matplotlib.pyplot as plt\n",
    "import seaborn as sns\n",
    "import glob\n",
    "import urllib\n",
    "import cv2\n",
    "import re\n",
    "from PIL import Image, ImageOps\n",
    "%matplotlib inline"
   ]
  },
  {
   "cell_type": "code",
   "execution_count": 23,
   "metadata": {},
   "outputs": [],
   "source": [
    "carmax = pd.read_csv('../data/carmax_final_data.csv')\n",
    "carvana = pd.read_csv('../data/carvana_final_data.csv')"
   ]
  },
  {
   "cell_type": "code",
   "execution_count": 24,
   "metadata": {},
   "outputs": [
    {
     "name": "stdout",
     "output_type": "stream",
     "text": [
      "<class 'pandas.core.frame.DataFrame'>\n",
      "RangeIndex: 50580 entries, 0 to 50579\n",
      "Data columns (total 10 columns):\n",
      "Unnamed: 0    50580 non-null int64\n",
      "model         50580 non-null object\n",
      "price         50580 non-null int64\n",
      "mileage       50580 non-null int64\n",
      "src           50580 non-null object\n",
      "type          50580 non-null object\n",
      "year          50580 non-null int64\n",
      "make          50580 non-null object\n",
      "trim          50580 non-null object\n",
      "image-type    50580 non-null object\n",
      "dtypes: int64(4), object(6)\n",
      "memory usage: 3.9+ MB\n"
     ]
    }
   ],
   "source": [
    "carmax.info()"
   ]
  },
  {
   "cell_type": "code",
   "execution_count": 25,
   "metadata": {},
   "outputs": [
    {
     "name": "stdout",
     "output_type": "stream",
     "text": [
      "<class 'pandas.core.frame.DataFrame'>\n",
      "RangeIndex: 12426 entries, 0 to 12425\n",
      "Data columns (total 10 columns):\n",
      "Unnamed: 0    12426 non-null int64\n",
      "make          12426 non-null object\n",
      "model         12426 non-null object\n",
      "trim          12426 non-null object\n",
      "type          12426 non-null object\n",
      "price         12426 non-null int64\n",
      "mileage       12426 non-null int64\n",
      "src           12426 non-null object\n",
      "year          12426 non-null int64\n",
      "image-type    12426 non-null object\n",
      "dtypes: int64(4), object(6)\n",
      "memory usage: 970.9+ KB\n"
     ]
    }
   ],
   "source": [
    "carvana.info()"
   ]
  },
  {
   "cell_type": "code",
   "execution_count": 26,
   "metadata": {},
   "outputs": [],
   "source": [
    "carmax['org'] = 'carmax'\n",
    "carvana['org'] = 'carvana'"
   ]
  },
  {
   "cell_type": "code",
   "execution_count": 27,
   "metadata": {},
   "outputs": [],
   "source": [
    "carvana['id'] = carvana['Unnamed: 0']\n",
    "carvana.drop('Unnamed: 0', axis=1, inplace=True)\n",
    "carmax['id'] = carmax['Unnamed: 0']\n",
    "carmax.drop('Unnamed: 0', axis=1, inplace=True)"
   ]
  },
  {
   "cell_type": "code",
   "execution_count": 28,
   "metadata": {},
   "outputs": [
    {
     "data": {
      "text/html": [
       "<div>\n",
       "<style scoped>\n",
       "    .dataframe tbody tr th:only-of-type {\n",
       "        vertical-align: middle;\n",
       "    }\n",
       "\n",
       "    .dataframe tbody tr th {\n",
       "        vertical-align: top;\n",
       "    }\n",
       "\n",
       "    .dataframe thead th {\n",
       "        text-align: right;\n",
       "    }\n",
       "</style>\n",
       "<table border=\"1\" class=\"dataframe\">\n",
       "  <thead>\n",
       "    <tr style=\"text-align: right;\">\n",
       "      <th></th>\n",
       "      <th>make</th>\n",
       "      <th>model</th>\n",
       "      <th>trim</th>\n",
       "      <th>type</th>\n",
       "      <th>price</th>\n",
       "      <th>mileage</th>\n",
       "      <th>src</th>\n",
       "      <th>year</th>\n",
       "      <th>image-type</th>\n",
       "      <th>org</th>\n",
       "      <th>id</th>\n",
       "    </tr>\n",
       "  </thead>\n",
       "  <tbody>\n",
       "    <tr>\n",
       "      <th>0</th>\n",
       "      <td>AUDI</td>\n",
       "      <td>A3</td>\n",
       "      <td>1.8T Premium Plus</td>\n",
       "      <td>convertible</td>\n",
       "      <td>22200</td>\n",
       "      <td>41822</td>\n",
       "      <td>cdnblob.carvana.io/2000291164/post-large/norma...</td>\n",
       "      <td>2015</td>\n",
       "      <td>original</td>\n",
       "      <td>carvana</td>\n",
       "      <td>0</td>\n",
       "    </tr>\n",
       "    <tr>\n",
       "      <th>1</th>\n",
       "      <td>JAGUAR</td>\n",
       "      <td>XK</td>\n",
       "      <td>XKR</td>\n",
       "      <td>convertible</td>\n",
       "      <td>34300</td>\n",
       "      <td>47179</td>\n",
       "      <td>cdnblob.carvana.io/2000287619/post-large/norma...</td>\n",
       "      <td>2011</td>\n",
       "      <td>original</td>\n",
       "      <td>carvana</td>\n",
       "      <td>1</td>\n",
       "    </tr>\n",
       "    <tr>\n",
       "      <th>2</th>\n",
       "      <td>MAZDA</td>\n",
       "      <td>MX-5 MIATA RF</td>\n",
       "      <td>Club</td>\n",
       "      <td>convertible</td>\n",
       "      <td>25700</td>\n",
       "      <td>6445</td>\n",
       "      <td>cdnblob.carvana.io/2000282627/post-large/norma...</td>\n",
       "      <td>2017</td>\n",
       "      <td>original</td>\n",
       "      <td>carvana</td>\n",
       "      <td>2</td>\n",
       "    </tr>\n",
       "    <tr>\n",
       "      <th>3</th>\n",
       "      <td>BMW</td>\n",
       "      <td>4 SERIES</td>\n",
       "      <td>428i</td>\n",
       "      <td>convertible</td>\n",
       "      <td>32800</td>\n",
       "      <td>17869</td>\n",
       "      <td>cdnblob.carvana.io/2000283685/post-large/norma...</td>\n",
       "      <td>2016</td>\n",
       "      <td>original</td>\n",
       "      <td>carvana</td>\n",
       "      <td>3</td>\n",
       "    </tr>\n",
       "    <tr>\n",
       "      <th>4</th>\n",
       "      <td>BMW</td>\n",
       "      <td>Z4</td>\n",
       "      <td>SDrive35i</td>\n",
       "      <td>convertible</td>\n",
       "      <td>32700</td>\n",
       "      <td>29380</td>\n",
       "      <td>cdnblob.carvana.io/2000277443/post-large/norma...</td>\n",
       "      <td>2015</td>\n",
       "      <td>original</td>\n",
       "      <td>carvana</td>\n",
       "      <td>4</td>\n",
       "    </tr>\n",
       "  </tbody>\n",
       "</table>\n",
       "</div>"
      ],
      "text/plain": [
       "     make          model               trim         type  price  mileage  \\\n",
       "0    AUDI             A3  1.8T Premium Plus  convertible  22200    41822   \n",
       "1  JAGUAR             XK                XKR  convertible  34300    47179   \n",
       "2   MAZDA  MX-5 MIATA RF               Club  convertible  25700     6445   \n",
       "3     BMW       4 SERIES               428i  convertible  32800    17869   \n",
       "4     BMW             Z4          SDrive35i  convertible  32700    29380   \n",
       "\n",
       "                                                 src  year image-type  \\\n",
       "0  cdnblob.carvana.io/2000291164/post-large/norma...  2015   original   \n",
       "1  cdnblob.carvana.io/2000287619/post-large/norma...  2011   original   \n",
       "2  cdnblob.carvana.io/2000282627/post-large/norma...  2017   original   \n",
       "3  cdnblob.carvana.io/2000283685/post-large/norma...  2016   original   \n",
       "4  cdnblob.carvana.io/2000277443/post-large/norma...  2015   original   \n",
       "\n",
       "       org  id  \n",
       "0  carvana   0  \n",
       "1  carvana   1  \n",
       "2  carvana   2  \n",
       "3  carvana   3  \n",
       "4  carvana   4  "
      ]
     },
     "execution_count": 28,
     "metadata": {},
     "output_type": "execute_result"
    }
   ],
   "source": [
    "carvana.head()"
   ]
  },
  {
   "cell_type": "code",
   "execution_count": 29,
   "metadata": {},
   "outputs": [],
   "source": [
    "carmax['make'] = carmax['make'].apply(lambda x: x.upper())"
   ]
  },
  {
   "cell_type": "code",
   "execution_count": 30,
   "metadata": {},
   "outputs": [
    {
     "data": {
      "text/html": [
       "<div>\n",
       "<style scoped>\n",
       "    .dataframe tbody tr th:only-of-type {\n",
       "        vertical-align: middle;\n",
       "    }\n",
       "\n",
       "    .dataframe tbody tr th {\n",
       "        vertical-align: top;\n",
       "    }\n",
       "\n",
       "    .dataframe thead th {\n",
       "        text-align: right;\n",
       "    }\n",
       "</style>\n",
       "<table border=\"1\" class=\"dataframe\">\n",
       "  <thead>\n",
       "    <tr style=\"text-align: right;\">\n",
       "      <th></th>\n",
       "      <th>model</th>\n",
       "      <th>price</th>\n",
       "      <th>mileage</th>\n",
       "      <th>src</th>\n",
       "      <th>type</th>\n",
       "      <th>year</th>\n",
       "      <th>make</th>\n",
       "      <th>trim</th>\n",
       "      <th>image-type</th>\n",
       "      <th>org</th>\n",
       "      <th>id</th>\n",
       "    </tr>\n",
       "  </thead>\n",
       "  <tbody>\n",
       "    <tr>\n",
       "      <th>0</th>\n",
       "      <td>undefined</td>\n",
       "      <td>19998</td>\n",
       "      <td>20000</td>\n",
       "      <td>https://img2.carmax.com/img/vehicles/17325462/...</td>\n",
       "      <td>sedan</td>\n",
       "      <td>2016</td>\n",
       "      <td>ACURA</td>\n",
       "      <td>ILX</td>\n",
       "      <td>original</td>\n",
       "      <td>carmax</td>\n",
       "      <td>0</td>\n",
       "    </tr>\n",
       "    <tr>\n",
       "      <th>1</th>\n",
       "      <td>undefined</td>\n",
       "      <td>21998</td>\n",
       "      <td>20000</td>\n",
       "      <td>https://img2.carmax.com/img/vehicles/17373223/...</td>\n",
       "      <td>sedan</td>\n",
       "      <td>2015</td>\n",
       "      <td>ACURA</td>\n",
       "      <td>TLX</td>\n",
       "      <td>original</td>\n",
       "      <td>carmax</td>\n",
       "      <td>1</td>\n",
       "    </tr>\n",
       "    <tr>\n",
       "      <th>2</th>\n",
       "      <td>undefined</td>\n",
       "      <td>19998</td>\n",
       "      <td>41000</td>\n",
       "      <td>https://img2.carmax.com/img/vehicles/17221103/...</td>\n",
       "      <td>sedan</td>\n",
       "      <td>2015</td>\n",
       "      <td>ACURA</td>\n",
       "      <td>TLX</td>\n",
       "      <td>original</td>\n",
       "      <td>carmax</td>\n",
       "      <td>2</td>\n",
       "    </tr>\n",
       "    <tr>\n",
       "      <th>3</th>\n",
       "      <td>undefined</td>\n",
       "      <td>17998</td>\n",
       "      <td>29000</td>\n",
       "      <td>https://img2.carmax.com/img/vehicles/17320660/...</td>\n",
       "      <td>sedan</td>\n",
       "      <td>2016</td>\n",
       "      <td>ACURA</td>\n",
       "      <td>ILX</td>\n",
       "      <td>original</td>\n",
       "      <td>carmax</td>\n",
       "      <td>3</td>\n",
       "    </tr>\n",
       "    <tr>\n",
       "      <th>4</th>\n",
       "      <td>undefined</td>\n",
       "      <td>20998</td>\n",
       "      <td>44000</td>\n",
       "      <td>https://img2.carmax.com/img/vehicles/15666950/...</td>\n",
       "      <td>sedan</td>\n",
       "      <td>2016</td>\n",
       "      <td>ACURA</td>\n",
       "      <td>TLX</td>\n",
       "      <td>original</td>\n",
       "      <td>carmax</td>\n",
       "      <td>4</td>\n",
       "    </tr>\n",
       "  </tbody>\n",
       "</table>\n",
       "</div>"
      ],
      "text/plain": [
       "       model  price  mileage  \\\n",
       "0  undefined  19998    20000   \n",
       "1  undefined  21998    20000   \n",
       "2  undefined  19998    41000   \n",
       "3  undefined  17998    29000   \n",
       "4  undefined  20998    44000   \n",
       "\n",
       "                                                 src   type  year   make trim  \\\n",
       "0  https://img2.carmax.com/img/vehicles/17325462/...  sedan  2016  ACURA  ILX   \n",
       "1  https://img2.carmax.com/img/vehicles/17373223/...  sedan  2015  ACURA  TLX   \n",
       "2  https://img2.carmax.com/img/vehicles/17221103/...  sedan  2015  ACURA  TLX   \n",
       "3  https://img2.carmax.com/img/vehicles/17320660/...  sedan  2016  ACURA  ILX   \n",
       "4  https://img2.carmax.com/img/vehicles/15666950/...  sedan  2016  ACURA  TLX   \n",
       "\n",
       "  image-type     org  id  \n",
       "0   original  carmax   0  \n",
       "1   original  carmax   1  \n",
       "2   original  carmax   2  \n",
       "3   original  carmax   3  \n",
       "4   original  carmax   4  "
      ]
     },
     "execution_count": 30,
     "metadata": {},
     "output_type": "execute_result"
    }
   ],
   "source": [
    "carmax.head()"
   ]
  },
  {
   "cell_type": "code",
   "execution_count": 31,
   "metadata": {},
   "outputs": [],
   "source": [
    "all_cars = pd.concat([carmax, carvana], axis=0, ignore_index=True, sort=True)\n",
    "all_cars = all_cars.sort_values('make').reset_index()\n",
    "all_cars.drop('index', axis=1, inplace=True)"
   ]
  },
  {
   "cell_type": "code",
   "execution_count": 32,
   "metadata": {},
   "outputs": [
    {
     "data": {
      "text/html": [
       "<div>\n",
       "<style scoped>\n",
       "    .dataframe tbody tr th:only-of-type {\n",
       "        vertical-align: middle;\n",
       "    }\n",
       "\n",
       "    .dataframe tbody tr th {\n",
       "        vertical-align: top;\n",
       "    }\n",
       "\n",
       "    .dataframe thead th {\n",
       "        text-align: right;\n",
       "    }\n",
       "</style>\n",
       "<table border=\"1\" class=\"dataframe\">\n",
       "  <thead>\n",
       "    <tr style=\"text-align: right;\">\n",
       "      <th></th>\n",
       "      <th>id</th>\n",
       "      <th>image-type</th>\n",
       "      <th>make</th>\n",
       "      <th>mileage</th>\n",
       "      <th>model</th>\n",
       "      <th>org</th>\n",
       "      <th>price</th>\n",
       "      <th>src</th>\n",
       "      <th>trim</th>\n",
       "      <th>type</th>\n",
       "      <th>year</th>\n",
       "    </tr>\n",
       "  </thead>\n",
       "  <tbody>\n",
       "    <tr>\n",
       "      <th>0</th>\n",
       "      <td>0</td>\n",
       "      <td>original</td>\n",
       "      <td>ACURA</td>\n",
       "      <td>20000</td>\n",
       "      <td>undefined</td>\n",
       "      <td>carmax</td>\n",
       "      <td>19998</td>\n",
       "      <td>https://img2.carmax.com/img/vehicles/17325462/...</td>\n",
       "      <td>ILX</td>\n",
       "      <td>sedan</td>\n",
       "      <td>2016</td>\n",
       "    </tr>\n",
       "    <tr>\n",
       "      <th>1</th>\n",
       "      <td>2607</td>\n",
       "      <td>original</td>\n",
       "      <td>ACURA</td>\n",
       "      <td>46319</td>\n",
       "      <td>TLX</td>\n",
       "      <td>carvana</td>\n",
       "      <td>19200</td>\n",
       "      <td>cdnblob.carvana.io/2000249304/post-large/norma...</td>\n",
       "      <td>3.5</td>\n",
       "      <td>sedan</td>\n",
       "      <td>2016</td>\n",
       "    </tr>\n",
       "    <tr>\n",
       "      <th>2</th>\n",
       "      <td>2614</td>\n",
       "      <td>original</td>\n",
       "      <td>ACURA</td>\n",
       "      <td>39069</td>\n",
       "      <td>TLX</td>\n",
       "      <td>carvana</td>\n",
       "      <td>19700</td>\n",
       "      <td>cdnblob.carvana.io/2000243521/post-large/norma...</td>\n",
       "      <td>3.5</td>\n",
       "      <td>sedan</td>\n",
       "      <td>2016</td>\n",
       "    </tr>\n",
       "    <tr>\n",
       "      <th>3</th>\n",
       "      <td>2652</td>\n",
       "      <td>original</td>\n",
       "      <td>ACURA</td>\n",
       "      <td>45517</td>\n",
       "      <td>TLX</td>\n",
       "      <td>carvana</td>\n",
       "      <td>19700</td>\n",
       "      <td>cdnblob.carvana.io/2000287679/post-large/norma...</td>\n",
       "      <td>2.4</td>\n",
       "      <td>sedan</td>\n",
       "      <td>2016</td>\n",
       "    </tr>\n",
       "    <tr>\n",
       "      <th>4</th>\n",
       "      <td>2671</td>\n",
       "      <td>original</td>\n",
       "      <td>ACURA</td>\n",
       "      <td>17525</td>\n",
       "      <td>ILX</td>\n",
       "      <td>carvana</td>\n",
       "      <td>18900</td>\n",
       "      <td>cdnblob.carvana.io/2000284758/post-large/norma...</td>\n",
       "      <td>ILX</td>\n",
       "      <td>sedan</td>\n",
       "      <td>2016</td>\n",
       "    </tr>\n",
       "  </tbody>\n",
       "</table>\n",
       "</div>"
      ],
      "text/plain": [
       "     id image-type   make  mileage      model      org  price  \\\n",
       "0     0   original  ACURA    20000  undefined   carmax  19998   \n",
       "1  2607   original  ACURA    46319        TLX  carvana  19200   \n",
       "2  2614   original  ACURA    39069        TLX  carvana  19700   \n",
       "3  2652   original  ACURA    45517        TLX  carvana  19700   \n",
       "4  2671   original  ACURA    17525        ILX  carvana  18900   \n",
       "\n",
       "                                                 src trim   type  year  \n",
       "0  https://img2.carmax.com/img/vehicles/17325462/...  ILX  sedan  2016  \n",
       "1  cdnblob.carvana.io/2000249304/post-large/norma...  3.5  sedan  2016  \n",
       "2  cdnblob.carvana.io/2000243521/post-large/norma...  3.5  sedan  2016  \n",
       "3  cdnblob.carvana.io/2000287679/post-large/norma...  2.4  sedan  2016  \n",
       "4  cdnblob.carvana.io/2000284758/post-large/norma...  ILX  sedan  2016  "
      ]
     },
     "execution_count": 32,
     "metadata": {},
     "output_type": "execute_result"
    }
   ],
   "source": [
    "all_cars.head()"
   ]
  },
  {
   "cell_type": "code",
   "execution_count": 33,
   "metadata": {},
   "outputs": [
    {
     "data": {
      "image/png": "[encoded data removed]",
      "text/plain": [
       "<Figure size 1152x432 with 1 Axes>"
      ]
     },
     "metadata": {
      "needs_background": "light"
     },
     "output_type": "display_data"
    }
   ],
   "source": [
    "plt.figure(figsize=(16,6))\n",
    "ax = sns.countplot(x='make', data=all_cars)\n",
    "ax.set_xticklabels(ax.get_xticklabels(), rotation=90, ha=\"right\")\n",
    "plt.show()"
   ]
  },
  {
   "cell_type": "code",
   "execution_count": 34,
   "metadata": {},
   "outputs": [
    {
     "data": {
      "text/plain": [
       "<matplotlib.axes._subplots.AxesSubplot at 0x1a20f8eac8>"
      ]
     },
     "execution_count": 34,
     "metadata": {},
     "output_type": "execute_result"
    },
    {
     "data": {
      "image/png": "[encoded data removed]",
      "text/plain": [
       "<Figure size 720x432 with 1 Axes>"
      ]
     },
     "metadata": {
      "needs_background": "light"
     },
     "output_type": "display_data"
    }
   ],
   "source": [
    "plt.figure(figsize=(10,6))\n",
    "sns.countplot(x='type', data=all_cars)"
   ]
  },
  {
   "cell_type": "code",
   "execution_count": 35,
   "metadata": {},
   "outputs": [
    {
     "data": {
      "text/plain": [
       "<matplotlib.axes._subplots.AxesSubplot at 0x1a20f8ec18>"
      ]
     },
     "execution_count": 35,
     "metadata": {},
     "output_type": "execute_result"
    },
    {
     "data": {
      "image/png": "[encoded data removed]",
      "text/plain": [
       "<Figure size 720x432 with 1 Axes>"
      ]
     },
     "metadata": {
      "needs_background": "light"
     },
     "output_type": "display_data"
    }
   ],
   "source": [
    "plt.figure(figsize=(10,6))\n",
    "sns.countplot(x='year', data=all_cars)"
   ]
  },
  {
   "cell_type": "code",
   "execution_count": 36,
   "metadata": {},
   "outputs": [
    {
     "data": {
      "text/plain": [
       "<matplotlib.axes._subplots.AxesSubplot at 0x1a259fe2e8>"
      ]
     },
     "execution_count": 36,
     "metadata": {},
     "output_type": "execute_result"
    },
    {
     "data": {
      "image/png": "[encoded data removed]",
      "text/plain": [
       "<Figure size 864x288 with 1 Axes>"
      ]
     },
     "metadata": {
      "needs_background": "light"
     },
     "output_type": "display_data"
    }
   ],
   "source": [
    "plt.figure(figsize=(12,4))\n",
    "sns.distplot([all_cars['price']], kde=False)"
   ]
  },
  {
   "cell_type": "code",
   "execution_count": 37,
   "metadata": {},
   "outputs": [
    {
     "data": {
      "text/plain": [
       "<matplotlib.axes._subplots.AxesSubplot at 0x1a25094828>"
      ]
     },
     "execution_count": 37,
     "metadata": {},
     "output_type": "execute_result"
    },
    {
     "data": {
      "image/png": "[encoded data removed]",
      "text/plain": [
       "<Figure size 432x432 with 1 Axes>"
      ]
     },
     "metadata": {
      "needs_background": "light"
     },
     "output_type": "display_data"
    }
   ],
   "source": [
    "plt.figure(figsize=(6,6))\n",
    "sns.countplot(x='image-type', data=all_cars)"
   ]
  },
  {
   "cell_type": "code",
   "execution_count": 38,
   "metadata": {},
   "outputs": [
    {
     "data": {
      "text/plain": [
       "59816"
      ]
     },
     "execution_count": 38,
     "metadata": {},
     "output_type": "execute_result"
    }
   ],
   "source": [
    "len(all_cars[all_cars['image-type'] == 'original'])"
   ]
  },
  {
   "cell_type": "markdown",
   "metadata": {},
   "source": [
    "From all the data scraped, we are left with 60285 images of cars"
   ]
  },
  {
   "cell_type": "code",
   "execution_count": 39,
   "metadata": {},
   "outputs": [],
   "source": [
    "def save_carmax(car_id, index):\n",
    "    im_pth = '../images/carmax/' + str(car_id) + '.jpg'\n",
    "    im = Image.open(im_pth)\n",
    "    old_size = im.size\n",
    "    ratio = float(desired_size)/max(old_size)\n",
    "    new_size = tuple([int(x*ratio) for x in old_size])\n",
    "    im = im.resize(new_size, Image.ANTIALIAS)\n",
    "    new_im = Image.new(\"RGB\", (desired_size, desired_size))\n",
    "    new_im.paste(im, ((desired_size-new_size[0])//2,\n",
    "                    (desired_size-new_size[1])//2))\n",
    "    new_im.save('../images/final/' + str(desired_size) + '/' + str(index) + '.jpg')"
   ]
  },
  {
   "cell_type": "code",
   "execution_count": 40,
   "metadata": {},
   "outputs": [],
   "source": [
    "def save_carvana(car_id, index):\n",
    "    im_pth = '../images/carvana/' + str(car_id) + '.jpg'\n",
    "    im = Image.open(im_pth)\n",
    "    im = im.crop((73,0,673,im.size[1]))\n",
    "    old_size = im.size\n",
    "    ratio = float(desired_size)/max(old_size)\n",
    "    new_size = tuple([int(x*ratio) for x in old_size])\n",
    "    im = im.resize(new_size, Image.ANTIALIAS)\n",
    "    new_im = Image.new(\"RGB\", (desired_size, desired_size))\n",
    "    new_im.paste(im, ((desired_size-new_size[0])//2,\n",
    "                    (desired_size-new_size[1])//2))\n",
    "    new_im = new_im.transpose(Image.FLIP_LEFT_RIGHT)\n",
    "    new_im.save('../images/final/' + str(desired_size) + '/' + str(index) + '.jpg')"
   ]
  },
  {
   "cell_type": "code",
   "execution_count": 45,
   "metadata": {},
   "outputs": [],
   "source": [
    "desired_size = 256\n",
    "for i in range(len(all_cars)):\n",
    "    img_type = all_cars.iloc[i][\"image-type\"]\n",
    "    org = all_cars.iloc[i].org\n",
    "    car_id = all_cars.iloc[i].id\n",
    "    if img_type == 'sample':\n",
    "        continue\n",
    "    else:\n",
    "        if org == 'carmax':\n",
    "            save_carmax(car_id,i)\n",
    "        else:\n",
    "            save_carvana(car_id,i)"
   ]
  },
  {
   "cell_type": "code",
   "execution_count": 48,
   "metadata": {},
   "outputs": [],
   "source": [
    "all_cars.to_csv('../data/final_data.csv')"
   ]
  },
  {
   "cell_type": "code",
   "execution_count": null,
   "metadata": {},
   "outputs": [],
   "source": []
  }
 ],
 "metadata": {
  "kernelspec": {
   "display_name": "Python 3",
   "language": "python",
   "name": "python3"
  },
  "language_info": {
   "codemirror_mode": {
    "name": "ipython",
    "version": 3
   },
   "file_extension": ".py",
   "mimetype": "text/x-python",
   "name": "python",
   "nbconvert_exporter": "python",
   "pygments_lexer": "ipython3",
   "version": "3.7.1"
  }
 },
 "nbformat": 4,
 "nbformat_minor": 2
}
